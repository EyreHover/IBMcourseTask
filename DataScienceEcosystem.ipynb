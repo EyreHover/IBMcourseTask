{
 "cells": [
  {
   "cell_type": "markdown",
   "id": "39ae7e82-c928-4fe0-9ce8-aafc83b0643a",
   "metadata": {},
   "source": [
    "# Data Science Tools and Ecosystem"
   ]
  },
  {
   "cell_type": "markdown",
   "id": "9c3c386d-3b64-4d61-80ed-a19afe273c8d",
   "metadata": {},
   "source": [
    "## Author\n",
    "Eyre Hover"
   ]
  },
  {
   "cell_type": "markdown",
   "id": "851c9da3-148c-477c-bb54-bdbd9a186557",
   "metadata": {},
   "source": [
    "In this notebook, Data Science Tools and Ecosystem are summarized."
   ]
  },
  {
   "cell_type": "markdown",
   "id": "73183b4f-5509-473b-b537-4f7276b222b5",
   "metadata": {},
   "source": [
    "**Objectives:**\n",
    "- List popular languages for Data Science \n",
    "- List popular libraries for Data Science \n",
    "- List popular development environments for Data Science "
   ]
  },
  {
   "cell_type": "markdown",
   "id": "924a16f8-1845-4980-9443-4c9748e4c397",
   "metadata": {},
   "source": [
    "Some of the popular languages that Data Scientists use are:\n",
    "1. Python\n",
    "2. R\n",
    "3. Julia"
   ]
  },
  {
   "cell_type": "markdown",
   "id": "8b3ffdf4-adce-4458-b68f-c82a6791ae4e",
   "metadata": {},
   "source": [
    "Some of the commonly used libraries used by Data Scientists include:\n",
    "1. NumPy\n",
    "2. SciPy\n",
    "3. Pandas "
   ]
  },
  {
   "cell_type": "markdown",
   "id": "0cb26789-5eea-435a-8577-8b6543544bed",
   "metadata": {
    "tags": []
   },
   "source": [
    "| Data Science Tools |\n",
    "| --- |\n",
    "| Jupyter |\n",
    "| RStudio |\n",
    "| Spyder |\n"
   ]
  },
  {
   "cell_type": "markdown",
   "id": "e40a152d-0df7-4d41-88e7-0ea92d8fbadf",
   "metadata": {},
   "source": [
    "### Below are a few examples of evaluating arithmetic expressions in Python\n",
    "\n"
   ]
  },
  {
   "cell_type": "code",
   "execution_count": 6,
   "id": "59f4d581-faa3-478c-adf7-a0a16d955f09",
   "metadata": {
    "tags": []
   },
   "outputs": [
    {
     "data": {
      "text/plain": [
       "17"
      ]
     },
     "execution_count": 6,
     "metadata": {},
     "output_type": "execute_result"
    }
   ],
   "source": [
    "# This a simple arithmetic expression to mutiply then add integers\n",
    "(3*4)+5"
   ]
  },
  {
   "cell_type": "code",
   "execution_count": 7,
   "id": "d1047184-3d0a-4e91-9afe-534fead4ef51",
   "metadata": {
    "tags": []
   },
   "outputs": [
    {
     "data": {
      "text/plain": [
       "3.3333333333333335"
      ]
     },
     "execution_count": 7,
     "metadata": {},
     "output_type": "execute_result"
    }
   ],
   "source": [
    "# This will convert 200 minutes to hours by diving by 60\n",
    "200/60"
   ]
  },
  {
   "cell_type": "code",
   "execution_count": null,
   "id": "37d98d17-36fd-4943-a6b8-d8496d42eaad",
   "metadata": {},
   "outputs": [],
   "source": []
  }
 ],
 "metadata": {
  "kernelspec": {
   "display_name": "Python",
   "language": "python",
   "name": "conda-env-python-py"
  },
  "language_info": {
   "codemirror_mode": {
    "name": "ipython",
    "version": 3
   },
   "file_extension": ".py",
   "mimetype": "text/x-python",
   "name": "python",
   "nbconvert_exporter": "python",
   "pygments_lexer": "ipython3",
   "version": "3.7.12"
  }
 },
 "nbformat": 4,
 "nbformat_minor": 5
}
